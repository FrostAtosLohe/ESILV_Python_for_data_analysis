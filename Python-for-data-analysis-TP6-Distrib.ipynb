{
 "cells": [
  {
   "cell_type": "markdown",
   "metadata": {},
   "source": [
    "# PYTHON FOR DATA ANALYSIS TP6"
   ]
  },
  {
   "cell_type": "markdown",
   "metadata": {},
   "source": [
    "# 1) SCRAPING SESSION , 3h\n",
    "\n",
    "\n",
    "Objectifs : \n",
    "\n",
    "- Maitrise requests + beautifoulsoup et / ou selenium\n",
    "- Maitrise Outils de developpement web / HTML CSS / clic droit inspecter / CSS selectors\n",
    "\n",
    "\n",
    "Choisissez un thème de scraping parmi les suivants : \n",
    "\n",
    "- Resultats sportifs : date, équipe/joueur 1 , équipe/joueur2, score ..\n",
    "- Stock market : date/heure, stock, valeur\n",
    "- Google search results pour un mot clé donné : titre page, description, url, position\n",
    "- Pollution : date/heure mesure, indice mesuré, valeur\n",
    "- playlist radio : date/heure diffusion, artiste, morceau (https://www.nova.fr/radionova/radio-nova )\n",
    "- site marchand : marque, nom produit , prix  ...\n",
    "- annonces immo : titre, prix , m2\n",
    "\n",
    "Automatisez la collecte des données en vous limitant à 100 résultats dans un premier temps\n",
    "Insérez les données propres dans un DataFrame, en ne conservant que les données utiles. \n",
    "Choisissez un affichage révélateur, graphique ou sous forme de tableau.\n",
    "\n",
    "\n",
    "\n",
    "\n",
    "Aspect légal : c'est l'utilisation que vous allez en faire qui peut être condamnée, par le scraping en soi.\n"
   ]
  },
  {
   "cell_type": "code",
   "execution_count": null,
   "metadata": {},
   "outputs": [],
   "source": []
  },
  {
   "cell_type": "markdown",
   "metadata": {},
   "source": [
    "# 2) ML With Scikit-Learn"
   ]
  },
  {
   "cell_type": "code",
   "execution_count": null,
   "metadata": {},
   "outputs": [],
   "source": []
  },
  {
   "cell_type": "code",
   "execution_count": null,
   "metadata": {},
   "outputs": [],
   "source": []
  },
  {
   "cell_type": "code",
   "execution_count": null,
   "metadata": {},
   "outputs": [],
   "source": []
  },
  {
   "cell_type": "code",
   "execution_count": null,
   "metadata": {},
   "outputs": [],
   "source": []
  },
  {
   "cell_type": "code",
   "execution_count": null,
   "metadata": {},
   "outputs": [],
   "source": []
  }
 ],
 "metadata": {
  "kernelspec": {
   "display_name": "Python 3",
   "language": "python",
   "name": "python3"
  },
  "language_info": {
   "codemirror_mode": {
    "name": "ipython",
    "version": 3
   },
   "file_extension": ".py",
   "mimetype": "text/x-python",
   "name": "python",
   "nbconvert_exporter": "python",
   "pygments_lexer": "ipython3",
   "version": "3.8.3"
  }
 },
 "nbformat": 4,
 "nbformat_minor": 4
}
